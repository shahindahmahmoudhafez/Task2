{
  "nbformat": 4,
  "nbformat_minor": 0,
  "metadata": {
    "colab": {
      "name": "task5",
      "provenance": [],
      "collapsed_sections": []
    },
    "kernelspec": {
      "name": "python3",
      "display_name": "Python 3"
    },
    "language_info": {
      "name": "python"
    }
  },
  "cells": [
    {
      "cell_type": "markdown",
      "source": [
        "1-Polarcoordinates"
      ],
      "metadata": {
        "id": "j4yarOUtvyMs"
      }
    },
    {
      "cell_type": "code",
      "execution_count": null,
      "metadata": {
        "id": "kunoNJaurzo2"
      },
      "outputs": [],
      "source": [
        "import cmath \n",
        "a=complex(input().strip())\n",
        "b=cmath.polar(a)\n",
        "print(b[0])\n",
        "print(b[1])"
      ]
    },
    {
      "cell_type": "markdown",
      "source": [
        "2-find Angle MBc"
      ],
      "metadata": {
        "id": "fFjJkBMYv9uc"
      }
    },
    {
      "cell_type": "code",
      "source": [
        "# Enter your code here. Read input from STDIN. Print output to STDOUT# Enter your code here. Read input from STDIN. Print output to STDOUT\n",
        "import math\n",
        "ab=int(input())\n",
        "bc=int(input())\n",
        "ca=math.hypot(ab,bc)\n",
        "mc=ca/2\n",
        "bca=math.asin(1*ab/ca)\n",
        "bm=math.sqrt((bc**2+mc**2)-(2*bc*mc*math.cos(bca)))\n",
        "mbc=math.asin(math.sin(bca)*mc/bm)\n",
        "print(int(round(math.degrees(mbc),0)),'\\u00B0',sep='')"
      ],
      "metadata": {
        "id": "FI8-Aktkr0rW"
      },
      "execution_count": null,
      "outputs": []
    },
    {
      "cell_type": "markdown",
      "source": [
        "3-Triangle Quest"
      ],
      "metadata": {
        "id": "x2kdqUOIwE6U"
      }
    },
    {
      "cell_type": "code",
      "source": [
        "for i in range(1,int(input())+1):\n",
        "    print((10**i//9)**2)"
      ],
      "metadata": {
        "id": "avreY9n1sdtF"
      },
      "execution_count": null,
      "outputs": []
    },
    {
      "cell_type": "markdown",
      "source": [
        "4-mod Divmod"
      ],
      "metadata": {
        "id": "vb8IlVaLwQT8"
      }
    },
    {
      "cell_type": "code",
      "source": [
        "# Enter your code here. Read input from STDIN. Print output to STDOUT\n",
        "# Mod Divmod in Python - Hacker Rank Solution START\n",
        "a = int(input());\n",
        "b = int(input());\n",
        "print(a//b);\n",
        "print(a%b);\n",
        "print(divmod(a,b));\n",
        "# Mod Divmod in Python - Hacker Rank Solution END"
      ],
      "metadata": {
        "id": "13tN4MJns3sl"
      },
      "execution_count": null,
      "outputs": []
    },
    {
      "cell_type": "markdown",
      "source": [
        "5-power-mod power"
      ],
      "metadata": {
        "id": "WG27TjCPwbuG"
      }
    },
    {
      "cell_type": "code",
      "source": [
        "a,b,c = (int(input()) for i in range(3))\n",
        "print(pow(a,b), pow(a,b,c), sep=\"\\n\")"
      ],
      "metadata": {
        "id": "OyRZvzMntJT2"
      },
      "execution_count": null,
      "outputs": []
    },
    {
      "cell_type": "markdown",
      "source": [
        "6-Triangle Quest"
      ],
      "metadata": {
        "id": "2wbqjd9iwm5a"
      }
    },
    {
      "cell_type": "code",
      "source": [
        "for i in range(1, int(input())):\n",
        "    print((10**(i)//9)*i)"
      ],
      "metadata": {
        "id": "8np2793Dt_Ok"
      },
      "execution_count": null,
      "outputs": []
    }
  ]
}
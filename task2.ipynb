{
  "nbformat": 4,
  "nbformat_minor": 0,
  "metadata": {
    "colab": {
      "name": "2.2task2.ipynb",
      "provenance": []
    },
    "kernelspec": {
      "name": "python3",
      "display_name": "Python 3"
    },
    "language_info": {
      "name": "python"
    }
  },
  "cells": [
    {
      "cell_type": "markdown",
      "source": [
        "# 1-List comprhensions"
      ],
      "metadata": {
        "id": "cdfMipF2BDMC"
      }
    },
    {
      "cell_type": "code",
      "source": [
        "if __name__ == '__main__':\n",
        "    x = int(input())\n",
        "    y = int(input())\n",
        "    z = int(input())\n",
        "    n = int(input())\n",
        "print([[a,b,c] for a in range(x+1) for b in range(y+1) for c in range(z+1) if (a+b+c)!=n])\n"
      ],
      "metadata": {
        "id": "fwk_Y-6yBMpP"
      },
      "execution_count": null,
      "outputs": []
    },
    {
      "cell_type": "markdown",
      "source": [
        "# 2-Find the runner -up scor"
      ],
      "metadata": {
        "id": "12R-XHYlBPZK"
      }
    },
    {
      "cell_type": "code",
      "source": [
        "if __name__=='__main__':\n",
        "  n=int(input())\n",
        "  arr=map(int,input().split())\n",
        "  print(sorted(list(set(arr)))[-2])\n"
      ],
      "metadata": {
        "id": "XjdrvIrxBY9v"
      },
      "execution_count": null,
      "outputs": []
    },
    {
      "cell_type": "markdown",
      "source": [
        "# 3-Nested List"
      ],
      "metadata": {
        "id": "TpYoUcGOBdoq"
      }
    },
    {
      "cell_type": "code",
      "source": [
        "Result =[]\n",
        "scorelist = []\n",
        "if __name__ == '__main__':\n",
        "    for _ in range(int(input())):\n",
        "        name = input()\n",
        "        score = float(input())\n",
        "        Result+=[[name,score]]\n",
        "        scorelist+=[score]\n",
        "    b=sorted(list(set(scorelist)))[1] \n",
        "    for a,c in sorted(Result):\n",
        "        if c==b:\n",
        "            print(a)"
      ],
      "metadata": {
        "id": "eTp3AR_jBio_"
      },
      "execution_count": null,
      "outputs": []
    },
    {
      "cell_type": "markdown",
      "source": [
        "# 4-Finding the percentage"
      ],
      "metadata": {
        "id": "f20hbziKBoGm"
      }
    },
    {
      "cell_type": "code",
      "source": [
        "if __name__ == '__main__':\n",
        "    n = int(input())\n",
        "    marks = {}\n",
        "\n",
        "    for _ in range(n):\n",
        "        name, *line = input().split()\n",
        "        scores = list(map(float, line))\n",
        "        scores=sum(scores)/3\n",
        "        marks[name] = scores\n",
        "    a = input()    \n",
        "    \n",
        "    print('%.2f' % marks[a])"
      ],
      "metadata": {
        "id": "_W-P5AEVBvP2"
      },
      "execution_count": null,
      "outputs": []
    },
    {
      "cell_type": "markdown",
      "source": [
        "# 5-Lists"
      ],
      "metadata": {
        "id": "34JgYvp2Bzwm"
      }
    },
    {
      "cell_type": "code",
      "source": [
        "if __name__ == '__main__':\n",
        "    N = int(input())\n",
        "    L=[];\n",
        "    for i in range(0,N):\n",
        "        cmd=input().split();\n",
        "        if cmd[0] == \"insert\":\n",
        "            L.insert(int(cmd[1]),int(cmd[2]))\n",
        "        elif cmd[0] == \"append\":\n",
        "            L.append(int(cmd[1]))\n",
        "        elif cmd[0] == \"pop\":\n",
        "            L.pop();\n",
        "        elif cmd[0] == \"print\":\n",
        "            print(L)\n",
        "        elif cmd[0] == \"remove\":\n",
        "            L.remove(int(cmd[1]))\n",
        "        elif cmd[0] == \"sort\":\n",
        "            L.sort();\n",
        "        else:\n",
        "            L.reverse();"
      ],
      "metadata": {
        "id": "URb3590YB4O3"
      },
      "execution_count": null,
      "outputs": []
    },
    {
      "cell_type": "markdown",
      "source": [
        "# 6-Tuple"
      ],
      "metadata": {
        "id": "SnapH0bQC-gU"
      }
    },
    {
      "cell_type": "code",
      "source": [
        "if __name__ == '__main__':\n",
        "    n = int(input())\n",
        "    integer_list = map(int, input().split())\n",
        "    print(hash(tuple(integer_list)))"
      ],
      "metadata": {
        "id": "eUt7ne0ADB1W"
      },
      "execution_count": null,
      "outputs": []
    },
    {
      "cell_type": "markdown",
      "source": [
        ""
      ],
      "metadata": {
        "id": "Rh9UuFNvDCpT"
      }
    }
  ]
}
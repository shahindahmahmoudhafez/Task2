{
  "nbformat": 4,
  "nbformat_minor": 0,
  "metadata": {
    "colab": {
      "name": "2.3task3.ipynb",
      "provenance": []
    },
    "kernelspec": {
      "name": "python3",
      "display_name": "Python 3"
    },
    "language_info": {
      "name": "python"
    }
  },
  "cells": [
    {
      "cell_type": "markdown",
      "source": [
        "# 1-string split and join"
      ],
      "metadata": {
        "id": "wL7FMLv_5NUb"
      }
    },
    {
      "cell_type": "code",
      "source": [
        "def split_and_join(line):\n",
        "    # write your code here\n",
        "    line = line.split()\n",
        "    line = \"-\".join(line)\n",
        "    return line\n"
      ],
      "metadata": {
        "id": "LOapy31q5XU6"
      },
      "execution_count": null,
      "outputs": []
    },
    {
      "cell_type": "markdown",
      "source": [
        "# 2-what your name"
      ],
      "metadata": {
        "id": "5lkxVcMq5bmD"
      }
    },
    {
      "cell_type": "code",
      "source": [
        "def print_full_name(a, b):\n",
        "    print(\"Hello \" + a, b + \"! You just delved into python.\")\n"
      ],
      "metadata": {
        "id": "oY9D_YbC5gTS"
      },
      "execution_count": null,
      "outputs": []
    },
    {
      "cell_type": "markdown",
      "source": [
        "# 3-mutations"
      ],
      "metadata": {
        "id": "kwfAYZvX5lL6"
      }
    },
    {
      "cell_type": "code",
      "source": [
        "def mutate_string(string, position, character):\n",
        "    n = list(string)\n",
        "    n[position] = character\n",
        "    string = \"\".join(n)\n",
        "    return string\n"
      ],
      "metadata": {
        "id": "pATfoAfo5uHK"
      },
      "execution_count": null,
      "outputs": []
    },
    {
      "cell_type": "markdown",
      "source": [
        "# 4-find string\n",
        "\n"
      ],
      "metadata": {
        "id": "m9LxV-2y55jq"
      }
    },
    {
      "cell_type": "code",
      "source": [
        "def count_substring(string, sub_string):\n",
        "    count=0\n",
        "    for i in range(len(string)):\n",
        "        if string[i:i+len(sub_string)]==sub_string:\n",
        "            count+=1\n",
        "    return count"
      ],
      "metadata": {
        "id": "itSe7j8Y53b4"
      },
      "execution_count": null,
      "outputs": []
    },
    {
      "cell_type": "markdown",
      "source": [
        "# 5-string validators"
      ],
      "metadata": {
        "id": "Rl7jjDGW6WxL"
      }
    },
    {
      "cell_type": "code",
      "source": [
        "if __name__ == '__main__':\n",
        "   s = input()\n",
        "    print(any(map(str.isalnum, s)))\n",
        "    print(any(map(str.isalpha, s)))\n",
        "    print(any(map(str.isdigit, s)))\n",
        "    print(any(map(str.islower, s)))\n",
        "    print(any(map(str.isupper, s)))"
      ],
      "metadata": {
        "id": "Yen8c7t56esp"
      },
      "execution_count": null,
      "outputs": []
    },
    {
      "cell_type": "markdown",
      "source": [
        "# 6-Text alignment"
      ],
      "metadata": {
        "id": "Hmwc2ZCl65EB"
      }
    },
    {
      "cell_type": "code",
      "source": [
        "#Replace all ______ with rjust, ljust or center. \n",
        "\n",
        "thickness = int(input()) #This must be an odd number\n",
        "c = 'H'\n",
        "\n",
        "#Top Cone\n",
        "for i in range(thickness):\n",
        "    print((c*i).______(thickness-1)+c+(c*i).______(thickness-1))\n",
        "\n",
        "#Top Pillars\n",
        "for i in range(thickness+1):\n",
        "    print((c*thickness).______(thickness*2)+(c*thickness).______(thickness*6))\n",
        "\n",
        "#Middle Belt\n",
        "for i in range((thickness+1)//2):\n",
        "    print((c*thickness*5).______(thickness*6))    \n",
        "\n",
        "#Bottom Pillars\n",
        "for i in range(thickness+1):\n",
        "    print((c*thickness).______(thickness*2)+(c*thickness).______(thickness*6))    \n",
        "\n",
        "#Bottom Cone\n",
        "for i in range(thickness):\n",
        "    print(((c*(thickness-i-1)).______(thickness)+c+(c*(thickness-i-1)).______(thickness)).______(thickness*6))"
      ],
      "metadata": {
        "id": "r0g632NV7AAJ"
      },
      "execution_count": null,
      "outputs": []
    },
    {
      "cell_type": "markdown",
      "source": [
        "# 7-Text wrap"
      ],
      "metadata": {
        "id": "8HMFphPc7PkA"
      }
    },
    {
      "cell_type": "code",
      "source": [
        "import textwrap\n",
        "\n",
        "def wrap(string, max_width):\n",
        "    return"
      ],
      "metadata": {
        "id": "YXxc2gOu7Wox"
      },
      "execution_count": null,
      "outputs": []
    },
    {
      "cell_type": "markdown",
      "source": [
        "# 8-Designer Door mat"
      ],
      "metadata": {
        "id": "-gawUlae7dwa"
      }
    },
    {
      "cell_type": "code",
      "source": [
        "N, M = map(int, input().split())\n",
        "for i in range(1, N, 2):\n",
        "    print((i * \".|.\").center(M,\"-\"))\n",
        "print(\"WELCOME\".center(M, \"-\"))\n",
        "for i in range(N-2, -1, -2):\n",
        "    print((i * \".|.\").center(M, \"-\"))"
      ],
      "metadata": {
        "id": "BuRJhnRf7lWC"
      },
      "execution_count": null,
      "outputs": []
    },
    {
      "cell_type": "markdown",
      "source": [
        "# 9-string formatting"
      ],
      "metadata": {
        "id": "I6e5F7Uu8Dky"
      }
    },
    {
      "cell_type": "code",
      "source": [
        "def print_formatted(number):\n",
        "    # your code goes here\n",
        "    width = len(bin(number)[2:])\n",
        "    for i in range(1, number+1):\n",
        "        deci = str(i)\n",
        "        octa = oct(i)[2:]\n",
        "        hexa = hex(i)[2:].upper()\n",
        "        bina = bin(i)[2:]\n",
        "        print(deci.rjust(width),octa.rjust(width),hexa.rjust(width),bina.rjust(width))\n",
        "\n",
        "if __name__ == '__main__':\n",
        "    n = int(input())\n",
        "    print_formatted(n)"
      ],
      "metadata": {
        "id": "Iu7hs3Yb8qCx"
      },
      "execution_count": null,
      "outputs": []
    },
    {
      "cell_type": "markdown",
      "source": [
        "# 10-Alphabet Rangoli"
      ],
      "metadata": {
        "id": "ge0DbT689Hxx"
      }
    },
    {
      "cell_type": "code",
      "source": [
        "def print_rangoli(size):\n",
        "    # your code goes here\n",
        "    import string\n",
        "    design = string.ascii_lowercase\n",
        "    L = []\n",
        "    for i in range(n):\n",
        "        s = \"-\".join(design[i:n])\n",
        "        L.append((s[::-1]+s[1:]).center(4*n-3, \"-\"))\n",
        "        \n",
        "    print('\\n'.join(L[:0:-1]+L))\n",
        "\n",
        "if __name__ == '__main__':\n",
        "    n = int(input())\n",
        "    print_rangoli(n)"
      ],
      "metadata": {
        "id": "UeGUPxpD9RTg"
      },
      "execution_count": null,
      "outputs": []
    },
    {
      "cell_type": "markdown",
      "source": [
        "# 11-capitalize"
      ],
      "metadata": {
        "id": "eFn2oS9w9tsH"
      }
    },
    {
      "cell_type": "code",
      "source": [
        "import numpy as np\n",
        "n, m = map(int, input().split())\n",
        "a, b = (np.array([input().split() for _ in range(n)], dtype=int) for _ in range(2))\n",
        "print(a+b, a-b, a*b, a//b, a%b, a**b, sep='\\n')"
      ],
      "metadata": {
        "id": "o-y_hc5z-SGC"
      },
      "execution_count": null,
      "outputs": []
    },
    {
      "cell_type": "markdown",
      "source": [
        "# 12-the manion Game"
      ],
      "metadata": {
        "id": "ox8cho5G-S1p"
      }
    },
    {
      "cell_type": "code",
      "source": [
        "import numpy as np\n",
        "\n",
        "np.set_printoptions(legacy = '1.13')\n",
        "\n",
        "ar = np.array(input().strip().split(), float)\n",
        "\n",
        "print(np.floor(ar), np.ceil(ar), np.rint(ar), sep = \"\\n\")\n"
      ],
      "metadata": {
        "id": "Z3yTq9Gy-YOB"
      },
      "execution_count": null,
      "outputs": []
    },
    {
      "cell_type": "markdown",
      "source": [
        "# 13-merge the tools\n",
        "# Sum"
      ],
      "metadata": {
        "id": "QeiJx-4S-sAT"
      }
    },
    {
      "cell_type": "code",
      "source": [
        "import numpy\n",
        "\n",
        "N, M = map(int, input().split())\n",
        "A = numpy.array([input().split() for _ in range(N)], int)\n",
        "print(numpy.prod(numpy.sum(A, axis=0), axis=0))"
      ],
      "metadata": {
        "id": "0ZTSxsTT-zdY"
      },
      "execution_count": null,
      "outputs": []
    }
  ]
}
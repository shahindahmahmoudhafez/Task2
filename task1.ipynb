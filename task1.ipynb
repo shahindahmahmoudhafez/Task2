{
  "nbformat": 4,
  "nbformat_minor": 0,
  "metadata": {
    "colab": {
      "name": "2.1 task2.ipynb",
      "provenance": []
    },
    "kernelspec": {
      "name": "python3",
      "display_name": "Python 3"
    },
    "language_info": {
      "name": "python"
    }
  },
  "cells": [
    {
      "cell_type": "markdown",
      "source": [
        "##introduction\n",
        "\n"
      ],
      "metadata": {
        "id": "pxol1_TAEMWX"
      }
    },
    {
      "cell_type": "markdown",
      "source": [
        "# 1- print text "
      ],
      "metadata": {
        "id": "Ht0xTsXMEW0g"
      }
    },
    {
      "cell_type": "code",
      "source": [
        "  print(\"Hello, World!\")"
      ],
      "metadata": {
        "id": "9BJcuM2kEbP-"
      },
      "execution_count": null,
      "outputs": []
    },
    {
      "cell_type": "markdown",
      "source": [
        "# 2-If -Else"
      ],
      "metadata": {
        "id": "QDvTOJGSElQQ"
      }
    },
    {
      "cell_type": "code",
      "source": [
        "if __name__ == '__main__':\n",
        "    n = int(input().strip())\n",
        "    \n",
        "    if n%2!=0:\n",
        "       print(\"Weird\")\n",
        "\n",
        "    else:\n",
        "        if n>=2 and n<=5:\n",
        "            print(\"Not Weird\")\n",
        "        elif n>=6 and n<=20:\n",
        "            print(\"Weird\")\n",
        "        elif n>20:\n",
        "            print(\"Not Weird\")"
      ],
      "metadata": {
        "id": "19fF8NuXEsqj"
      },
      "execution_count": null,
      "outputs": []
    },
    {
      "cell_type": "markdown",
      "source": [
        "# 3-Arithmetic operators"
      ],
      "metadata": {
        "id": "7iypqasaFBEN"
      }
    },
    {
      "cell_type": "code",
      "source": [
        "import numpy as np\n",
        "n = int(input())\n",
        "a = np.array([input().split() for _ in range(n)], int)\n",
        "b = np.array([input().split() for _ in range(n)], int)\n",
        "print(np.dot(a, b))"
      ],
      "metadata": {
        "id": "wYOsgdIPFJOz"
      },
      "execution_count": null,
      "outputs": []
    },
    {
      "cell_type": "markdown",
      "source": [
        "# 4-Division"
      ],
      "metadata": {
        "id": "bLJiosCvF4Y5"
      }
    },
    {
      "cell_type": "code",
      "source": [
        "import numpy as np\n",
        "A = np.array(input().split(), int)\n",
        "B = np.array(input().split(), int)\n",
        "print(np.inner(A,B), np.outer(A,B), sep='\\n')"
      ],
      "metadata": {
        "id": "huilDXwoF_sB"
      },
      "execution_count": null,
      "outputs": []
    },
    {
      "cell_type": "markdown",
      "source": [
        "# 5-Loop"
      ],
      "metadata": {
        "id": "5Os4SEHiGh2a"
      }
    },
    {
      "cell_type": "code",
      "source": [
        "import numpy\n",
        "print (numpy.polyval(list(map(float, input().split())), float(input())))"
      ],
      "metadata": {
        "id": "CrjF3V7zGlth"
      },
      "execution_count": null,
      "outputs": []
    },
    {
      "cell_type": "markdown",
      "source": [
        "# 6-write a function"
      ],
      "metadata": {
        "id": "hKM_7owdHlUt"
      }
    },
    {
      "cell_type": "code",
      "source": [
        "\n",
        "import numpy\n",
        "N = int(input())\n",
        "A = numpy.array([input().split() for _ in range(N)], float)\n",
        "print(round(numpy.linalg.det(A),2))"
      ],
      "metadata": {
        "id": "kN6YMbDNHrl8"
      },
      "execution_count": null,
      "outputs": []
    },
    {
      "cell_type": "markdown",
      "source": [
        "# 7-print function"
      ],
      "metadata": {
        "id": "ytTf9MWqJQTI"
      }
    },
    {
      "cell_type": "code",
      "source": [
        "n=int(input())\n",
        "for _ in range(n):\n",
        "    a,b=(input()).split()\n",
        "    try:\n",
        "        print((int(a)//int(b)))\n",
        "    except ZeroDivisionError as e:\n",
        "        print(\"Error Code: integer division or modulo by zero\")\n",
        "    except ValueError as v:\n",
        "        print(\"Error Code:\",v)"
      ],
      "metadata": {
        "id": "tpMzA1ulJWN5"
      },
      "execution_count": null,
      "outputs": []
    }
  ]
}
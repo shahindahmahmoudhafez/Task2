{
  "nbformat": 4,
  "nbformat_minor": 0,
  "metadata": {
    "colab": {
      "name": "2.4Task4",
      "provenance": [],
      "collapsed_sections": []
    },
    "kernelspec": {
      "name": "python3",
      "display_name": "Python 3"
    },
    "language_info": {
      "name": "python"
    }
  },
  "cells": [
    {
      "cell_type": "markdown",
      "source": [
        "#intrduction to sets"
      ],
      "metadata": {
        "id": "XonEQBZmO9zv"
      }
    },
    {
      "cell_type": "code",
      "source": [
        "# Introduction to Sets in Python - Hacker Rank Solution\n",
        "def average(array):\n",
        "    # Introduction to Sets in Python - Hacker Rank Solution START\n",
        "    sum_array = sum(set(array))\n",
        "    len_array = len(set(array))\n",
        "    output = sum_array/len_array\n",
        "    return output;\n",
        "    # Introduction to Sets in Python - Hacker Rank Solution END\n",
        "\n",
        "if __name__ == '__main__':"
      ],
      "metadata": {
        "id": "N4WI_jo30LFF"
      },
      "execution_count": null,
      "outputs": []
    },
    {
      "cell_type": "markdown",
      "source": [
        "# 2-No Ldera"
      ],
      "metadata": {
        "id": "rvpjwXql0R7K"
      }
    },
    {
      "cell_type": "code",
      "source": [
        "# Enter your code here. Read input from STDIN. Print output to STDOUT\n",
        "n,m = map(int,input().split())\n",
        "N = list(map(int,input().split()))\n",
        "A = set(map(int,input().split()))\n",
        "B = set(map(int,input().split()))\n",
        "#Union set A & B\n",
        "C = A | B\n",
        "#Exclude all numbers which doesn't exit in both A & B\n",
        "N = (i for i in N if i in C)\n",
        "#Add 1 if number is in set A else subtract 1\n",
        "print(sum(1 if i in A else -1 for i in N ))"
      ],
      "metadata": {
        "id": "Nc4OIEl30j4C"
      },
      "execution_count": null,
      "outputs": []
    },
    {
      "cell_type": "markdown",
      "source": [
        "# 3-Symmetric Difference "
      ],
      "metadata": {
        "id": "7FtzHmn30qeS"
      }
    },
    {
      "cell_type": "code",
      "source": [
        "# Enter your code here. Read input from STDIN. Print output to STDOUT\n",
        "if __name__ == \"__main__\":\n",
        "    M = int(input().strip())\n",
        "    set_m = set(map(int, input().strip().split(' ')))\n",
        "    \n",
        "    N = int(input().strip())\n",
        "    set_n = set(map(int, input().strip().split(' ')))\n",
        "    \n",
        "    for j in sorted(set_m ^ set_n):\n",
        "        print(j)"
      ],
      "metadata": {
        "id": "y8Bw-gTe0xlJ"
      },
      "execution_count": null,
      "outputs": []
    },
    {
      "cell_type": "markdown",
      "source": [
        "# 4-Set.add()"
      ],
      "metadata": {
        "id": "_qY4opNq0zTU"
      }
    },
    {
      "cell_type": "code",
      "source": [
        "# Enter your code here. Read input from STDIN. Print output to STDOUT#set add python - HackerRank Solution\n",
        "N=int(input())\n",
        "A=set()\n",
        "for i in range(N):\n",
        "    A.add(input())\n",
        "print(len(A))"
      ],
      "metadata": {
        "id": "ZMf9f6wi06Ya"
      },
      "execution_count": null,
      "outputs": []
    },
    {
      "cell_type": "markdown",
      "source": [
        "# 5-Set.discard(),remove&pop()"
      ],
      "metadata": {
        "id": "5QhSlAEW07iL"
      }
    },
    {
      "cell_type": "code",
      "source": [
        "n = int(input())\n",
        "s = set(map(int,input().split()))\n",
        "num = int(input())\n",
        "for i in range(num):\n",
        "    ip = input().split()\n",
        "    if ip[0]==\"remove\":\n",
        "        s.remove(int(ip[1]))\n",
        "    elif ip[0]==\"discard\":\n",
        "        s.discard(int(ip[1]))\n",
        "    else :\n",
        "        s.pop()\n",
        "print(sum(list(s)))\n"
      ],
      "metadata": {
        "id": "5UsieYSu1Sdz"
      },
      "execution_count": null,
      "outputs": []
    },
    {
      "cell_type": "markdown",
      "source": [
        "# 6-set union ()operator"
      ],
      "metadata": {
        "id": "EkJCyyuM1Xf5"
      }
    },
    {
      "cell_type": "code",
      "source": [
        "# Enter your code here. Read input from STDIN. Print output to STDOUT\n",
        "_ = int(input())\n",
        "SET_N = set(map(int, input().split()))\n",
        "_ = int(input())\n",
        "SET_B = set(map(int, input().split()))\n",
        "NEW_SET = SET_N.union(SET_B)\n",
        "print(len(NEW_SET))\n"
      ],
      "metadata": {
        "id": "mErvD8bB1f7B"
      },
      "execution_count": null,
      "outputs": []
    },
    {
      "cell_type": "markdown",
      "source": [
        "# 7-set intersection()operation"
      ],
      "metadata": {
        "id": "okUc4YzV1xZK"
      }
    },
    {
      "cell_type": "code",
      "source": [
        "# Enter your code here. Read input from STDIN. Print output to STDOUT\n",
        "_ = int(input())\n",
        "SET_N = set(map(int, input().split()))\n",
        "_ = int(input())\n",
        "SET_B = set(map(int, input().split()))\n",
        "print(len(SET_N & SET_B))"
      ],
      "metadata": {
        "id": "-HzNwWQP16pa"
      },
      "execution_count": null,
      "outputs": []
    },
    {
      "cell_type": "markdown",
      "source": [
        "# 8-set difference()operation"
      ],
      "metadata": {
        "id": "8U7ISZiT2BIy"
      }
    },
    {
      "cell_type": "code",
      "source": [
        "# Enter your code here. Read input from STDIN. Print output to STDOUT\n",
        "# Set .difference() Operation in python - Hacker Rank Solution START\n",
        "N1 = int(input())\n",
        "storage1 = set(input().split())\n",
        "\n",
        "N2 = int(input())\n",
        "storage2 = set(input().split())\n",
        "\n",
        "storage3 = storage1.difference(storage2)\n",
        "\n",
        "print(len(storage3))\n",
        "# Set .difference() Operation in python - Hacker Rank Solution END"
      ],
      "metadata": {
        "id": "WVyuRJf42OQv"
      },
      "execution_count": null,
      "outputs": []
    },
    {
      "cell_type": "markdown",
      "source": [
        "# 8-set mutations"
      ],
      "metadata": {
        "id": "87G7fdDY2Tk7"
      }
    },
    {
      "cell_type": "code",
      "source": [
        "\n",
        "len_set = int(input())\n",
        "\n",
        "storage = set(map(int, input().split()))\n",
        "\n",
        "op_len = int(input())\n",
        "\n",
        "for i in range(op_len):\n",
        "    operation = input().split()\n",
        "    if operation[0] == 'intersection_update':\n",
        "        temp_storage = set(map(int, input().split()))\n",
        "        storage.intersection_update(temp_storage)\n",
        "    elif operation[0] == 'update':\n",
        "        temp_storage = set(map(int, input().split()))\n",
        "        storage.update(temp_storage)\n",
        "    elif operation[0] == 'symmetric_difference_update':\n",
        "        temp_storage = set(map(int, input().split()))\n",
        "        storage.symmetric_difference_update(temp_storage)\n",
        "    elif operation[0] == 'difference_update':\n",
        "        temp_storage = set(map(int, input().split()))\n",
        "        storage.difference_update(temp_storage)\n",
        "    else :\n",
        "        assert False\n",
        "\n",
        "print(sum(storage))\n"
      ],
      "metadata": {
        "id": "udSduGMa2hcC"
      },
      "execution_count": null,
      "outputs": []
    },
    {
      "cell_type": "markdown",
      "source": [
        "# 9-the captains room"
      ],
      "metadata": {
        "id": "iRTNoRwT21NS"
      }
    },
    {
      "cell_type": "code",
      "source": [
        "N = input()\n",
        "ROOM_LIST = input().split()\n",
        "ROOM_SET = set(ROOM_LIST)\n",
        "for ele in list(ROOM_SET):\n",
        "    ROOM_LIST.remove(ele)\n",
        "CAPTAIN_ROOM_NUM = ROOM_SET.difference(set(ROOM_LIST)).pop()\n",
        "print(CAPTAIN_ROOM_NUM)"
      ],
      "metadata": {
        "id": "z9xuOPKH2-hL"
      },
      "execution_count": null,
      "outputs": []
    },
    {
      "cell_type": "markdown",
      "source": [
        "# 10-check subset"
      ],
      "metadata": {
        "id": "A_fxFzFj3Kgi"
      }
    },
    {
      "cell_type": "code",
      "source": [
        "T = int(input())\n",
        "for _ in range(T):\n",
        "    a = input()\n",
        "    A = set(input().split())\n",
        "    b = int(input())\n",
        "    B = set(input().split())\n",
        "    print(A.issubset(B))\n"
      ],
      "metadata": {
        "id": "ziEddCaY3RFC"
      },
      "execution_count": null,
      "outputs": []
    },
    {
      "cell_type": "markdown",
      "source": [
        "# 11-check strict superset"
      ],
      "metadata": {
        "id": "WZfMw7Ep3TgR"
      }
    },
    {
      "cell_type": "code",
      "source": [
        "storage = set(input().split())\n",
        "N = int(input())\n",
        "output = True\n",
        "\n",
        "for i in range(N):\n",
        "    storage2 = set(input().split())\n",
        "    if not storage2.issubset(storage):\n",
        "        output = False\n",
        "    if len(storage2) >= len(storage):\n",
        "        output = False\n",
        "\n",
        "print(output)"
      ],
      "metadata": {
        "id": "JjSy4ErS3h2C"
      },
      "execution_count": null,
      "outputs": []
    }
  ]
}